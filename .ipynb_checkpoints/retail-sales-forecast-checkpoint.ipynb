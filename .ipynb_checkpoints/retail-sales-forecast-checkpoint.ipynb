{
 "cells": [
  {
   "cell_type": "code",
   "execution_count": 4,
   "metadata": {
    "_uuid": "d760879ff2d0be965d700aa4295e240f8d037bd1",
    "collapsed": true
   },
   "outputs": [],
   "source": [
    "import pandas as pd\n",
    "import numpy as np\n",
    "import matplotlib.pyplot as plt"
   ]
  },
  {
   "cell_type": "markdown",
   "metadata": {
    "_uuid": "84c9e4a8cceaf5646bf0ea81b2c0264a665aec61"
   },
   "source": [
    "I used the retail data analytics to test a simple auto regressive (AR) model to forecast the sales volume using sales only and sales + external information. While the data might be used to draw many insights on this retail business, here I focus only on implementing the AR model to forecast the sales volume."
   ]
  },
  {
   "cell_type": "markdown",
   "metadata": {
    "_uuid": "ea6cf315452527a2a8b68cfe7fd35a00b038168e"
   },
   "source": [
    "# Import the data"
   ]
  },
  {
   "cell_type": "code",
   "execution_count": 2,
   "metadata": {
    "_uuid": "1d8d52a6ef4f88f495671b2bb751f562f30133db"
   },
   "outputs": [],
   "source": [
    "#import zipfile\n",
    "#zip_file = zipfile.ZipFile('retail-data-analytics.zip', 'r')\n",
    "#zip_file.namelist()"
   ]
  },
  {
   "cell_type": "code",
   "execution_count": 5,
   "metadata": {
    "_uuid": "222b3a9f95c32ebe3088acd76f9a829db1708675",
    "collapsed": true
   },
   "outputs": [],
   "source": [
    "features=pd.read_csv('../input/Features data set.csv')\n",
    "sales=pd.read_csv('../input/sales data-set.csv')\n",
    "stores=pd.read_csv('../input/stores data-set.csv')"
   ]
  },
  {
   "cell_type": "code",
   "execution_count": 6,
   "metadata": {
    "_uuid": "637269657f6c202065305151bd0750aa7332d70c",
    "collapsed": true
   },
   "outputs": [],
   "source": [
    "features['Date'] = pd.to_datetime(features['Date'])\n",
    "sales['Date'] = pd.to_datetime(sales['Date'])"
   ]
  },
  {
   "cell_type": "code",
   "execution_count": 7,
   "metadata": {
    "_uuid": "930dd94ab0c2168bfb5377a792dc3b4b2ef48e31"
   },
   "outputs": [],
   "source": [
    "print(features.shape)\n",
    "print(sales.shape)\n",
    "print(stores.shape)\n",
    "\n",
    "print(sales[0:1].Date, sales[-1:].Date)\n",
    "\n",
    "print(features[0:1].Date, features[-1:].Date)"
   ]
  },
  {
   "cell_type": "markdown",
   "metadata": {
    "_uuid": "107beb3ccf73e617a3538120b7b12a94c9a60602"
   },
   "source": [
    "# Merge the data in a unique DataFrame"
   ]
  },
  {
   "cell_type": "code",
   "execution_count": 8,
   "metadata": {
    "_uuid": "8022c67f04f41d601fbeaa80044e57b161b0641a"
   },
   "outputs": [],
   "source": [
    "df=pd.merge(sales,features, on=['Store','Date', 'IsHoliday'], how='left')\n",
    "df=pd.merge(df,stores, on=['Store'], how='left')\n",
    "\n",
    "df=df.fillna(0)\n",
    "df['Temperature'] = (df['Temperature']- 32) * 5./9.\n",
    "\n",
    "types_encoded, types =df['Type'].factorize()\n",
    "df['Type'] = types_encoded\n",
    "\n",
    "df.head()"
   ]
  },
  {
   "cell_type": "markdown",
   "metadata": {
    "_uuid": "ee6cf18380a568e093e4f2832f4e265b408be284"
   },
   "source": [
    "# Check data and features"
   ]
  },
  {
   "cell_type": "code",
   "execution_count": 9,
   "metadata": {
    "_uuid": "296925ce9829e88754e5bc05869902e919751add"
   },
   "outputs": [],
   "source": [
    "print('training_data duplicated:{}'.format(df.duplicated().sum()))\n",
    "df.drop_duplicates(inplace=True)"
   ]
  },
  {
   "cell_type": "code",
   "execution_count": 10,
   "metadata": {
    "_uuid": "dad0694169ed07df30272037e3885b610b182f23"
   },
   "outputs": [],
   "source": [
    "df.describe()"
   ]
  },
  {
   "cell_type": "code",
   "execution_count": 11,
   "metadata": {
    "_uuid": "19feb5f23a18f52c0e445c2d31a902eb9a1645ee"
   },
   "outputs": [],
   "source": [
    "tab_info = pd.DataFrame(df.dtypes).T.rename(index={0:'column Type'}) \n",
    "tab_info = tab_info.append(pd.DataFrame(df.isnull().sum()).T.rename(index={0:'null values (nb)'}))\n",
    "tab_info = tab_info.append(pd.DataFrame(df.isnull().sum()/df.shape[0]*100).T.\n",
    "                                       rename(index={0: 'null values (%)'}))\n",
    "tab_info"
   ]
  },
  {
   "cell_type": "markdown",
   "metadata": {
    "_uuid": "843bb6667e060bee0494dd514e694d78b50f5dbb"
   },
   "source": [
    "# Gain some graphical insight"
   ]
  },
  {
   "cell_type": "markdown",
   "metadata": {
    "_uuid": "31f2e45ce8e995df531e81a23f3ea2b2e22f65f6"
   },
   "source": [
    "Plot some of the variable present in the data frame such as temperature, fuel price, CPI, unemployment rate, ..."
   ]
  },
  {
   "cell_type": "code",
   "execution_count": 12,
   "metadata": {
    "_uuid": "14794ac5035fc6d3c3d1fdf855bca1208102387d"
   },
   "outputs": [],
   "source": [
    "df[['Date', 'Temperature', 'Fuel_Price', 'CPI', 'Unemployment', \n",
    "    'MarkDown1', 'MarkDown2', 'MarkDown3', 'MarkDown4', 'MarkDown5']].plot(x='Date', subplots=True, figsize=(20,15))\n",
    "plt.show()"
   ]
  },
  {
   "cell_type": "markdown",
   "metadata": {
    "_uuid": "e0937eb2eb9df77e97c80e47a1783d9158610ad8"
   },
   "source": [
    "Sum the weekely sales from every shop to get the total weekly sales volume of the retail chain "
   ]
  },
  {
   "cell_type": "code",
   "execution_count": 11,
   "metadata": {
    "_uuid": "4fd9141bf1201c4ee69d04d7e0c1133af41d6f6b"
   },
   "outputs": [],
   "source": [
    "df_average_sales_week = df.groupby(by=['Date'], as_index=False)['Weekly_Sales'].sum()\n",
    "df_average_sales = df_average_sales_week.sort_values('Weekly_Sales', ascending=False)\n",
    "\n",
    "plt.figure(figsize=(20,5))\n",
    "plt.plot(df_average_sales_week.Date, df_average_sales_week.Weekly_Sales)\n",
    "plt.show()"
   ]
  },
  {
   "cell_type": "markdown",
   "metadata": {
    "_uuid": "a2579715f2fef5ff0a1dc58bd17ce552065ebab7"
   },
   "source": [
    "# Get more insights"
   ]
  },
  {
   "cell_type": "code",
   "execution_count": 12,
   "metadata": {
    "_uuid": "13b316d2e58803c9926f535d27131ed406a7413a"
   },
   "outputs": [],
   "source": [
    "# The more remunerative weeks\n",
    "df_average_sales.head()"
   ]
  },
  {
   "cell_type": "code",
   "execution_count": 13,
   "metadata": {
    "_uuid": "4c62cd8ee16edfb27b81d812dfe27e6fed126be4"
   },
   "outputs": [],
   "source": [
    "# The least remunerative weeks\n",
    "df_average_sales[::-1].head()"
   ]
  },
  {
   "cell_type": "code",
   "execution_count": 14,
   "metadata": {
    "_uuid": "3a1cea7222702560d829d12ffb633bb717cfb42e"
   },
   "outputs": [],
   "source": [
    "# The least remunerative weeks\n",
    "df_average_sales[::-1].head()"
   ]
  },
  {
   "cell_type": "code",
   "execution_count": 15,
   "metadata": {
    "_uuid": "cc0e8a9cc35903f895b785693a7d30bd8715c302",
    "collapsed": true
   },
   "outputs": [],
   "source": [
    "ts = df_average_sales_week.set_index('Date')\n",
    "#ts = ts.resample('H').ffill()\n",
    "#ts = ts.resample('W').sum()"
   ]
  },
  {
   "cell_type": "code",
   "execution_count": 16,
   "metadata": {
    "_uuid": "9de2e7fb0307d1a4233956fdea444dde1917212d"
   },
   "outputs": [],
   "source": [
    "# The least remunerative weeks\n",
    "df_average_sales[::-1].head()"
   ]
  },
  {
   "cell_type": "code",
   "execution_count": 17,
   "metadata": {
    "_uuid": "877b23928e481f0ea6aaba2adfee5c25b21572ca"
   },
   "outputs": [],
   "source": [
    "# Top performing type of stores in term of sales\n",
    "df_top_stores = df.groupby(by=['Type'], as_index=False)['Weekly_Sales'].sum()\n",
    "df_top_stores.sort_values('Weekly_Sales', ascending=False)"
   ]
  },
  {
   "cell_type": "code",
   "execution_count": 18,
   "metadata": {
    "_uuid": "00851ed95298c6edb2776ab0ca58b8faa08efa74"
   },
   "outputs": [],
   "source": [
    "# Top performing stores in term of sales\n",
    "df_top_stores = df.groupby(by=['Store'], as_index=False)['Weekly_Sales'].sum()\n",
    "df_top_stores.sort_values('Weekly_Sales', ascending=False)[:3]"
   ]
  },
  {
   "cell_type": "markdown",
   "metadata": {
    "_uuid": "cfbf40a762e765e8ddcdfa1b16cdf1f89da98cc6"
   },
   "source": [
    "# Forecast of the total sales volume"
   ]
  },
  {
   "cell_type": "code",
   "execution_count": 19,
   "metadata": {
    "_uuid": "144d6498ac2908d2fe39fbcae38bcc89ea0e860c",
    "scrolled": true
   },
   "outputs": [],
   "source": [
    "from statsmodels.graphics.tsaplots import acf, pacf, plot_acf, plot_pacf\n",
    "\n",
    "fig, axes = plt.subplots(1,2, figsize=(20,5))\n",
    "plot_acf(ts, lags=100, ax=axes[0])\n",
    "plot_pacf(ts, lags=100, ax=axes[1])\n",
    "plt.show()"
   ]
  },
  {
   "cell_type": "markdown",
   "metadata": {
    "_uuid": "9fd874c41c112df6e4f8e2df67b5b3917071995c"
   },
   "source": [
    "# Model definition\n",
    "Since the AR model implemented in the statsmodels library allows to include only consecutive seasonality terms, I implement the model manually. In this way I can use non consecutive seasonality terms like weeks 1, 6, 52 as observed from the correlation analysis.  "
   ]
  },
  {
   "cell_type": "code",
   "execution_count": 20,
   "metadata": {
    "_uuid": "79a8bfee7986c629b0986387b851b167c67d3218",
    "collapsed": true
   },
   "outputs": [],
   "source": [
    "from sklearn.linear_model import LinearRegression\n",
    "\n",
    "def fit_ar_model(ts, orders):\n",
    "    \n",
    "    X=np.array([ ts.values[(i-orders)].squeeze() if i >= np.max(orders) else np.array(len(orders) * [np.nan]) for i in range(len(ts))])\n",
    "    \n",
    "    mask = ~np.isnan(X[:,:1]).squeeze()\n",
    "    \n",
    "    Y= ts.values\n",
    "    \n",
    "    lin_reg=LinearRegression()\n",
    "    \n",
    "    lin_reg.fit(X[mask],Y[mask])\n",
    "    \n",
    "    print(lin_reg.coef_, lin_reg.intercept_)\n",
    "\n",
    "    print('Score factor: %.2f' % lin_reg.score(X[mask],Y[mask]))\n",
    "    \n",
    "    return lin_reg.coef_, lin_reg.intercept_\n",
    "    \n",
    "def predict_ar_model(ts, orders, coef, intercept):\n",
    "    return np.array([np.sum(np.dot(coef, ts.values[(i-orders)].squeeze())) + intercept  if i >= np.max(orders) else np.nan for i in range(len(ts))])"
   ]
  },
  {
   "cell_type": "markdown",
   "metadata": {
    "_uuid": "e9f5255950b02099c76c75aca82c90950d83fa7c"
   },
   "source": [
    "Given the seasonality observed from the ACF and the PACF function, the AR model is implemented including seasonality from weeks (1,6,52)."
   ]
  },
  {
   "cell_type": "code",
   "execution_count": 21,
   "metadata": {
    "_uuid": "31c561aa824773051493cdb16f30b74bce7cd007"
   },
   "outputs": [],
   "source": [
    "orders=np.array([1,6,52])\n",
    "coef, intercept = fit_ar_model(ts,orders)\n",
    "pred=pd.DataFrame(index=ts.index, data=predict_ar_model(ts, orders, coef, intercept))\n",
    "plt.figure(figsize=(20,5))\n",
    "plt.plot(ts, 'o')\n",
    "plt.plot(pred)\n",
    "plt.show()"
   ]
  },
  {
   "cell_type": "code",
   "execution_count": 22,
   "metadata": {
    "_uuid": "ca18f7d16f4379191e207c01edc1cbf1fb6f9bd5",
    "scrolled": true
   },
   "outputs": [],
   "source": [
    "diff=(ts['Weekly_Sales']-pred[0])/ts['Weekly_Sales']\n",
    "\n",
    "print('AR Residuals: avg %.2f, std %.2f' % (diff.mean(), diff.std()))\n",
    " \n",
    "plt.figure(figsize=(20,5))\n",
    "plt.plot(diff, c='orange')\n",
    "plt.grid()\n",
    "plt.show()"
   ]
  },
  {
   "cell_type": "markdown",
   "metadata": {
    "_uuid": "390cda42e078f71d5ab26b0418d65882244ee4aa"
   },
   "source": [
    "The predictive model has an R^2 score factor of 0.41 (max score for perfect prediction would be 1). The residual distribution is centered in 0 with an STD of 7%."
   ]
  },
  {
   "cell_type": "markdown",
   "metadata": {
    "_uuid": "d89c5fb1b00f3646026d352ca3918846442e1084"
   },
   "source": [
    "# Forecast of the store-wise sales volume\n",
    "Develop the forecast model for the store number 20, which shows the highest sales volume."
   ]
  },
  {
   "cell_type": "code",
   "execution_count": 23,
   "metadata": {
    "_uuid": "68f51cd9ded3e0980a43658fab8d7bf7aa04fd11"
   },
   "outputs": [],
   "source": [
    "df20=df.where( df['Store'] == 20)\n",
    "df20=df20.dropna()\n",
    "df20=df20.groupby(by=['Date'], as_index=False)['Weekly_Sales'].sum()\n",
    "df20 = df20.set_index('Date')\n",
    "df20.head()"
   ]
  },
  {
   "cell_type": "code",
   "execution_count": 24,
   "metadata": {
    "_uuid": "1d61090a6461c1816630ad83e4eb489beb689faa"
   },
   "outputs": [],
   "source": [
    "plt.figure(figsize=(20,5))\n",
    "plt.plot(df20.index, df20.values)\n",
    "plt.show()"
   ]
  },
  {
   "cell_type": "code",
   "execution_count": 38,
   "metadata": {
    "_uuid": "2e5594f3e72bee120cf7196e8015e2ed34548592"
   },
   "outputs": [],
   "source": [
    "fig, axes = plt.subplots(1,2, figsize=(20,5))\n",
    "plot_acf(df20.values, lags=100, alpha=0.05, ax=axes[0])\n",
    "plot_pacf(df20.values, lags=100, alpha=0.05, ax=axes[1])\n",
    "plt.show()"
   ]
  },
  {
   "cell_type": "markdown",
   "metadata": {
    "_uuid": "aedec285332d92ddef2ce1b2652b387ce4ed1824"
   },
   "source": [
    "This particular store shows additional seasonalities from week 29 and 46 which will be included in the AR model."
   ]
  },
  {
   "cell_type": "code",
   "execution_count": 54,
   "metadata": {
    "_uuid": "de193aaeee57f01d1a5ae4488a4b1e7e4a50e3ce"
   },
   "outputs": [],
   "source": [
    "orders=np.array([1,6,29,46,52])\n",
    "coef, intercept = fit_ar_model(df20,orders)\n",
    "pred=pd.DataFrame(index=df20.index, data=predict_ar_model(df20, orders, coef, intercept))\n",
    "plt.figure(figsize=(20,5))\n",
    "plt.plot(df20, 'o')\n",
    "plt.plot(pred)\n",
    "plt.show()"
   ]
  },
  {
   "cell_type": "code",
   "execution_count": 55,
   "metadata": {
    "_uuid": "49650867ed741d7c527cab8d1f6644ba2f7cc63d"
   },
   "outputs": [],
   "source": [
    "diff=(df20['Weekly_Sales']-pred[0])/df20['Weekly_Sales']\n",
    "\n",
    "print('AR Residuals: avg %.2f, std %.2f' % (diff.mean(), diff.std()))\n",
    " \n",
    "plt.figure(figsize=(20,5))\n",
    "plt.plot(diff, c='orange')\n",
    "plt.grid()\n",
    "plt.show()"
   ]
  },
  {
   "cell_type": "markdown",
   "metadata": {
    "_uuid": "2134ed1ce0571588e77a1245b09887125bfed3fb"
   },
   "source": [
    "![](http://)The predictive model has an R^2 score factor of 0.34 (max score for perfect prediction would be 1.). The residual distribution is centered in 0 with an STD of 8%."
   ]
  },
  {
   "cell_type": "markdown",
   "metadata": {
    "_uuid": "1d65b293da6469c9d185edf2ff02703e60b0ace4"
   },
   "source": [
    "### Look for predictive power from external variables"
   ]
  },
  {
   "cell_type": "code",
   "execution_count": 56,
   "metadata": {
    "_uuid": "74f35efcfd6f2ccde8c63112c8a5709b53b8039b"
   },
   "outputs": [],
   "source": [
    "dfext=df.where( df['Store'] == 20)\n",
    "dfext=dfext.dropna()\n",
    "dfext=dfext.groupby(by=['Date'], as_index=False)[['Temperature', 'Fuel_Price', 'CPI', 'Unemployment', \n",
    "                                                  'MarkDown1', 'MarkDown2', 'MarkDown3', 'MarkDown4', 'MarkDown5']].mean()\n",
    "dfext = dfext.set_index('Date')\n",
    "dfext.head()"
   ]
  },
  {
   "cell_type": "code",
   "execution_count": 57,
   "metadata": {
    "_uuid": "78587c487ba701f48da50a9166dafd89a66cf989"
   },
   "outputs": [],
   "source": [
    "dfext.describe()"
   ]
  },
  {
   "cell_type": "code",
   "execution_count": 58,
   "metadata": {
    "_uuid": "87fa4174a2d88a8bf98487cdd7a5ba42b6677917"
   },
   "outputs": [],
   "source": [
    "dfext['shifted_sales'] = df20.shift(-1)\n",
    "dfext.head()"
   ]
  },
  {
   "cell_type": "code",
   "execution_count": 59,
   "metadata": {
    "_uuid": "c06a9759a07b33a244a855958580bf5e4481cccb"
   },
   "outputs": [],
   "source": [
    "import seaborn as sns\n",
    "corr = dfext.corr()\n",
    "plt.figure(figsize=(10,10))\n",
    "sns.heatmap(corr, \n",
    "            annot=True, fmt=\".3f\",\n",
    "            xticklabels=corr.columns.values,\n",
    "            yticklabels=corr.columns.values)\n",
    "plt.show()"
   ]
  },
  {
   "cell_type": "code",
   "execution_count": 60,
   "metadata": {
    "_uuid": "7a81a6d2ac64c4af348981aca83ce97c699cd01b"
   },
   "outputs": [],
   "source": [
    "corr['shifted_sales'].sort_values(ascending=False)"
   ]
  },
  {
   "cell_type": "markdown",
   "metadata": {
    "_uuid": "1a8f464f4ed97101ec9318ab351c9901f27da8ef"
   },
   "source": [
    "![](http://)The external variables available have some correlation with the 1-day lagged sales time series. This means that they have some degree of predictive power at 1 day and can be used to improve our model. The 'MarkDown' and the 'Temperature' being the most correlated and anti-correlate variables respectively."
   ]
  },
  {
   "cell_type": "code",
   "execution_count": 61,
   "metadata": {
    "_uuid": "563c9ddb588daad416f2df858d4964a9500412db",
    "collapsed": true
   },
   "outputs": [],
   "source": [
    "def fit_ar_model_ext(ts, orders, ext, fitter=LinearRegression()):\n",
    "    \n",
    "    X=np.array([ ts.values[(i-orders)].squeeze() if i >= np.max(orders) else np.array(len(orders) * [np.nan]) for i in range(len(ts))])\n",
    "    \n",
    "    X = np.append(X, ext.values, axis=1)\n",
    "    \n",
    "    mask = ~np.isnan(X[:,:1]).squeeze()\n",
    "    \n",
    "    Y= ts.values\n",
    "    \n",
    "    fitter.fit(X[mask],Y[mask].ravel())\n",
    "    \n",
    "    print(fitter.coef_, fitter.intercept_)\n",
    "\n",
    "    print('Score factor: %.2f' % fitter.score(X[mask],Y[mask]))\n",
    "    \n",
    "    return fitter.coef_, fitter.intercept_\n",
    "    \n",
    "def predict_ar_model_ext(ts, orders, ext, coef, intercept):\n",
    "\n",
    "    X=np.array([ ts.values[(i-orders)].squeeze() if i >= np.max(orders) else np.array(len(orders) * [np.nan]) for i in range(len(ts))])\n",
    "    \n",
    "    X = np.append(X, ext.values, axis=1)\n",
    "    \n",
    "    return np.array( np.dot(X, coef.T) + intercept)"
   ]
  },
  {
   "cell_type": "code",
   "execution_count": 62,
   "metadata": {
    "_uuid": "7e6625e2dbc879771de088381a84e8a7411d81b3"
   },
   "outputs": [],
   "source": [
    "#dfexte=dfext.drop(['shifted_sales'], axis=1)\n",
    "dfexte=dfext[['Unemployment','Fuel_Price','CPI','Temperature',\n",
    "              'MarkDown1', 'MarkDown2', 'MarkDown3', 'MarkDown4', 'MarkDown5']]\n",
    "\n",
    "orders=np.array([1,6,29,46,52])\n",
    "coef, intercept = fit_ar_model_ext(df20,orders,dfexte)\n",
    "pred_ext=pd.DataFrame(index=df20.index, data=predict_ar_model_ext(df20, orders, dfexte, coef, intercept))\n",
    "plt.figure(figsize=(20,5))\n",
    "plt.plot(df20, 'o')\n",
    "plt.plot(pred)\n",
    "plt.plot(pred_ext)\n",
    "plt.show()"
   ]
  },
  {
   "cell_type": "code",
   "execution_count": 63,
   "metadata": {
    "_uuid": "53162a72e345ba212b196a8c42f34515d6f1b401"
   },
   "outputs": [],
   "source": [
    "diff=(df20['Weekly_Sales']-pred[0])/df20['Weekly_Sales']\n",
    "diff_ext=(df20['Weekly_Sales']-pred_ext[0])/df20['Weekly_Sales']\n",
    "\n",
    "print('AR Residuals: avg %.2f, std %.2f' % (diff.mean(), diff.std()))\n",
    "print('AR wiht Ext Residuals: avg %.2f, std %.2f' % (diff_ext.mean(), diff_ext.std()))\n",
    " \n",
    "plt.figure(figsize=(20,5))\n",
    "plt.plot(diff, c='orange', label='w/o external variables')\n",
    "plt.plot(diff_ext, c='green', label='w/ external variables')\n",
    "plt.legend()\n",
    "plt.grid()\n",
    "plt.show()"
   ]
  },
  {
   "cell_type": "markdown",
   "metadata": {
    "_uuid": "6534c27d595cf763fafae0ead3079d9253dcb995"
   },
   "source": [
    "The model including the external variables improve the accuracy of the prediction by more than 40% ( R^2 score: 0.58 w.r.t 0.34). The standard deviation of the residual improve by about 30% (7% w.r.t. 8%)."
   ]
  },
  {
   "cell_type": "markdown",
   "metadata": {
    "_uuid": "4afbd44028116af13f2aefcc0156ad629966f2ef"
   },
   "source": [
    "# To do next:\n",
    "\n",
    "* Apply the forecast model with external informations on each store and sum the result to forcast the total sales volume"
   ]
  },
  {
   "cell_type": "code",
   "execution_count": null,
   "metadata": {
    "_uuid": "3070542d23c0b80da6174efba7859d27ab51018d",
    "collapsed": true
   },
   "outputs": [],
   "source": []
  }
 ],
 "metadata": {
  "kernelspec": {
   "display_name": "Python 3",
   "language": "python",
   "name": "python3"
  },
  "language_info": {
   "codemirror_mode": {
    "name": "ipython",
    "version": 3
   },
   "file_extension": ".py",
   "mimetype": "text/x-python",
   "name": "python",
   "nbconvert_exporter": "python",
   "pygments_lexer": "ipython3",
   "version": "3.7.4"
  }
 },
 "nbformat": 4,
 "nbformat_minor": 1
}
